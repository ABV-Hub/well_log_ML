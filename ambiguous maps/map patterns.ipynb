{
 "cells": [
  {
   "cell_type": "markdown",
   "metadata": {},
   "source": [
    "# Ambiguous map patterns from stratigraphy"
   ]
  },
  {
   "cell_type": "code",
   "execution_count": null,
   "metadata": {},
   "outputs": [],
   "source": [
    "# some imports, using verde to grid\n",
    "import pandas as pd\n",
    "import numpy as np\n",
    "import matplotlib.pyplot as plt\n",
    "import verde as vd\n",
    "\n",
    "%matplotlib inline"
   ]
  },
  {
   "cell_type": "markdown",
   "metadata": {},
   "source": [
    "## Here we make some data with angular unconformity and onlap"
   ]
  },
  {
   "cell_type": "code",
   "execution_count": null,
   "metadata": {},
   "outputs": [],
   "source": [
    "names = [\n",
    "    \"one\",\n",
    "    \"two\",\n",
    "    \"three\",\n",
    "    \"four\",\n",
    "    \"five\",\n",
    "    \"six\",\n",
    "    \"seven\",\n",
    "    \"eight\",\n",
    "    \"nine\",\n",
    "    \"ten\",\n",
    "    \"eleven\",\n",
    "    \"twelve\",\n",
    "    \"thirteen\",\n",
    "    \"fourteen\",\n",
    "    \"fifteen\",\n",
    "    \"sixteen\",\n",
    "]  # this creates dummy names for the formations\n",
    "number_of_layers = (\n",
    "    6\n",
    ")  # this is the number of tops you want in your training data\n",
    "\n",
    "# this section builds some toy data with an angular unconformity\n",
    "\n",
    "df = pd.DataFrame()\n",
    "for j in np.arange(-5, 7, 2):\n",
    "    rolling = pd.DataFrame()\n",
    "    rolling[\"zero\"] = (\n",
    "        10 * np.sin(1 - np.arange(0, 40, 0.1) / 15.28)\n",
    "        + np.random.rand(400) / 100\n",
    "    )\n",
    "    for i in range(len(names[0:number_of_layers])):\n",
    "        layer_elevation = 10 * np.sin(\n",
    "            1 - np.arange(0, 40, 0.1) / 15.28\n",
    "        ) + np.random.uniform(0, j)\n",
    "        elevation = np.full(400, j) + np.random.rand(400) / 100\n",
    "        layer_elevation = (\n",
    "            np.where(layer_elevation > elevation, elevation, layer_elevation)\n",
    "            + np.random.rand(400) / 100\n",
    "        )\n",
    "        rolling[names[i]] = layer_elevation\n",
    "    x = np.arange(0, 40, 0.1)\n",
    "    y = np.random.randint(0, 90, len(x))\n",
    "    rolling[\"ex\"] = x\n",
    "    rolling[\"ey\"] = y\n",
    "    df = pd.concat((df, rolling))\n",
    "adec = []\n",
    "for i in range(len(df)):\n",
    "    adec.append(df.iloc[i, 1:-2].sort_values()[0:].values)\n",
    "s3 = pd.DataFrame(adec)\n",
    "s3.index = df.index.values\n",
    "angular_thicknesses = s3.diff(axis=1)\n",
    "\n",
    "\n",
    "# now for onlap training data construction\n",
    "df_onlap = pd.DataFrame()\n",
    "for j in np.arange(-5, 10, 2):\n",
    "    rolling = pd.DataFrame()\n",
    "    rolling[\"zero\"] = 10 * np.sin(1 - np.arange(0, 40, 0.1) / 15.28)\n",
    "    for i in range(len(names[0:number_of_layers])):\n",
    "        zero = (\n",
    "            10 * np.sin(1 - np.arange(0, 40, 0.1) / 15.28)\n",
    "            + np.random.rand(400) / 100\n",
    "        )\n",
    "        randomness = np.random.uniform(0, j)\n",
    "        elevation = np.full(400, j) + np.random.rand(400) / 100\n",
    "        onlap = np.where(\n",
    "            np.full(400, randomness) > zero,\n",
    "            np.full(400, randomness) + np.random.rand(400) / 100,\n",
    "            zero,\n",
    "        )\n",
    "        layer_elevation = np.where(onlap > elevation, elevation, onlap)\n",
    "        rolling[names[i]] = layer_elevation - np.arange(0, 10, 0.025)\n",
    "    x = np.arange(0, 40, 0.1)\n",
    "    y = np.random.randint(0, 90, len(x))\n",
    "    rolling[\"ex\"] = x\n",
    "    rolling[\"ey\"] = y\n",
    "    df_onlap = pd.concat((df_onlap, rolling))\n",
    "dec = []\n",
    "for i in range(len(df_onlap)):\n",
    "    dec.append(df_onlap.iloc[i, 1:-2].sort_values()[0:].values)\n",
    "s = pd.DataFrame(dec)\n",
    "s.index = df_onlap.index.values\n",
    "onlap_thicknesses = s.diff(axis=1)"
   ]
  },
  {
   "cell_type": "markdown",
   "metadata": {},
   "source": [
    "### This is what the data looks like in cross section"
   ]
  },
  {
   "cell_type": "code",
   "execution_count": null,
   "metadata": {},
   "outputs": [],
   "source": [
    "df.iloc[2000:2400, 1:-2].plot(\n",
    "    legend=False, figsize=(20, 10), cmap=\"copper\"\n",
    ").set_aspect(\n",
    "    6\n",
    ")  # each x-section is 400 points long\n",
    "df_onlap.iloc[2000:2400, 1:-2].plot(\n",
    "    legend=False, figsize=(20, 10), cmap=\"copper\"\n",
    ").set_aspect(6)\n",
    "# df_horizontal.iloc[400:800, 0:-2].plot(legend=False, figsize=(20,10), cmap='copper').set_aspect(6)"
   ]
  },
  {
   "cell_type": "markdown",
   "metadata": {},
   "source": [
    "## now let's grid the data using Verde and plot it up"
   ]
  },
  {
   "cell_type": "code",
   "execution_count": null,
   "metadata": {},
   "outputs": [],
   "source": [
    "spline = vd.Spline()\n",
    "spline.fit(\n",
    "    (df.iloc[2000:2400, -2], df.iloc[2000:2400, -1]),\n",
    "    angular_thicknesses.iloc[2000:2400, 5],\n",
    ")\n",
    "grid = spline.grid(spacing=1, data_names=[\"thickness\"])\n",
    "grid.thickness.plot.pcolormesh(cmap=\"magma\")\n",
    "plt.title(\"Angular Unconformity Isochore\")"
   ]
  },
  {
   "cell_type": "code",
   "execution_count": null,
   "metadata": {},
   "outputs": [],
   "source": [
    "spline = vd.Spline()\n",
    "spline.fit(\n",
    "    (df.iloc[2000:2400, -2], df.iloc[2000:2400, -1]), df.iloc[2000:2400, 5]\n",
    ")\n",
    "grid = spline.grid(spacing=1, data_names=[\"depth\"])\n",
    "grid.depth.plot.pcolormesh(cmap=\"viridis\")\n",
    "plt.title(\"Angular Unconformity Structure\")"
   ]
  },
  {
   "cell_type": "code",
   "execution_count": null,
   "metadata": {},
   "outputs": [],
   "source": [
    "spline = vd.Spline()\n",
    "spline.fit(\n",
    "    (df_onlap.iloc[2000:2400, -2], df_onlap.iloc[2000:2400, -1]),\n",
    "    onlap_thicknesses.iloc[2000:2400, 5],\n",
    ")\n",
    "grid = spline.grid(spacing=1, data_names=[\"thickness\"])\n",
    "grid.thickness.plot.pcolormesh(cmap=\"magma\")\n",
    "plt.title(\"Onlap Isochore\")"
   ]
  },
  {
   "cell_type": "code",
   "execution_count": null,
   "metadata": {},
   "outputs": [],
   "source": [
    "spline.fit(\n",
    "    (df_onlap.iloc[2000:2400, -2], df_onlap.iloc[2000:2400, -1]),\n",
    "    df_onlap.iloc[2000:2400, 5],\n",
    ")\n",
    "grid = spline.grid(spacing=1, data_names=[\"depth\"])\n",
    "grid.depth.plot.pcolormesh(cmap=\"viridis\")\n",
    "plt.title(\"Onlap Structure\")"
   ]
  },
  {
   "cell_type": "markdown",
   "metadata": {},
   "source": [
    "### we can decimate the data to see what it would look like with fewer 'wells' in the cross section"
   ]
  },
  {
   "cell_type": "code",
   "execution_count": null,
   "metadata": {},
   "outputs": [],
   "source": [
    "decimate_onl = df_onlap.iloc[2000:2400].sample(\n",
    "    frac=0.01\n",
    ")  # fraction is the percentage of the data you want to sample ie-0.9 means sample 90% of the data"
   ]
  },
  {
   "cell_type": "code",
   "execution_count": null,
   "metadata": {},
   "outputs": [],
   "source": [
    "dec = []\n",
    "for i in range(len(decimate_onl)):\n",
    "    dec.append(\n",
    "        decimate_onl.sort_index().iloc[i, 1:-2].sort_values()[0:6].values\n",
    "    )\n",
    "s2 = pd.DataFrame(dec)\n",
    "s2.index = decimate_onl.sort_index().index.values\n",
    "s2.plot(legend=False, figsize=(20, 10), cmap=\"copper\").set_aspect(10)\n",
    "plt.title(\"A.\")"
   ]
  },
  {
   "cell_type": "code",
   "execution_count": null,
   "metadata": {},
   "outputs": [],
   "source": [
    "decimate_ang = df.iloc[2000:2400].loc[s2.diff(axis=1).index.values]"
   ]
  },
  {
   "cell_type": "code",
   "execution_count": null,
   "metadata": {},
   "outputs": [],
   "source": [
    "adec = []\n",
    "for i in range(len(decimate_ang)):\n",
    "    adec.append(\n",
    "        decimate_ang.sort_index().iloc[i, 1:-2].sort_values()[0:6].values\n",
    "    )\n",
    "s3 = pd.DataFrame(adec)\n",
    "s3.index = decimate_ang.sort_index().index.values\n",
    "s3.plot(legend=False, figsize=(20, 10), cmap=\"copper\").set_aspect(10)\n",
    "plt.title(\"B.\")"
   ]
  },
  {
   "cell_type": "code",
   "execution_count": null,
   "metadata": {},
   "outputs": [],
   "source": []
  }
 ],
 "metadata": {
  "kernelspec": {
   "display_name": "Python 3",
   "language": "python",
   "name": "python3"
  },
  "language_info": {
   "codemirror_mode": {
    "name": "ipython",
    "version": 3
   },
   "file_extension": ".py",
   "mimetype": "text/x-python",
   "name": "python",
   "nbconvert_exporter": "python",
   "pygments_lexer": "ipython3",
   "version": "3.6.5"
  }
 },
 "nbformat": 4,
 "nbformat_minor": 2
}
